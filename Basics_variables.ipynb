{
 "cells": [
  {
   "cell_type": "markdown",
   "metadata": {},
   "source": [
    "## Disclaimer: This is a notebook form kantologist.github.io/Tutorials"
   ]
  },
  {
   "cell_type": "markdown",
   "metadata": {},
   "source": [
    "# Basics of Python Programming Language\n",
    "Why Python programming Language\n",
    "1. Python is Interpreted.\n",
    "It is processed at runtime, hence no need for initial compilation. The first two properties are related. Simply put this allows easy use of python for numerical computing and mathematics, cross-platform support, smaller executables, support for more devices, easy debugging, and scripting ability. One of the greatest trade-off is speed, but there are smart ways to go around them.\n",
    "2. It is interactive.\n",
    "There's a command line interface that allows you to interact with the interpreter directly. It means you get immediate feedback for every line of code.\n",
    "\n",
    "3. It is object oriented.\n",
    "Python supports the style of coding where averything is seen as objects with states and behaviours. This allows stuffs like encapsulation, inheritance et.c.\n",
    "\n",
    "4. Friendly Syntax.\n",
    "Python has one of the sexiest syntax. So nice that it can be taught to kids. The learning curve is so impressive when it comes to unboarding beginners that the python conference in 2017 is actually going to feature a 14 yrs old boy where he would share his python learning story.\n",
    "\n",
    "5. Large community.\n",
    "Python has a very large community that span across many industry. It simply means it is common to find help for whatever problem faced since the likelihood of someone else facing it is high.\n",
    "\n",
    "\n",
    "6. Ubiquitious usage, hence lots of modules.\n",
    "Python seems to be everywhere. There are modules for web development, GUI, networking, financial modelling, all major sciences, data analysis et.c \n",
    "Wanna feel the awesomeness? check out awesome-python.com More stuffs: compiled vs interpreted"
   ]
  },
  {
   "cell_type": "markdown",
   "metadata": {},
   "source": [
    "## Basics"
   ]
  },
  {
   "cell_type": "code",
   "execution_count": 1,
   "metadata": {},
   "outputs": [
    {
     "name": "stdout",
     "output_type": "stream",
     "text": [
      "Hello world!\n"
     ]
    }
   ],
   "source": [
    "### first python code\n",
    "print(\"Hello world!\")"
   ]
  },
  {
   "cell_type": "code",
   "execution_count": 4,
   "metadata": {},
   "outputs": [
    {
     "name": "stdout",
     "output_type": "stream",
     "text": [
      "hello alfred how are you doing?\n"
     ]
    }
   ],
   "source": [
    "print('hello alfred how are you doing?')"
   ]
  },
  {
   "cell_type": "code",
   "execution_count": 7,
   "metadata": {},
   "outputs": [
    {
     "name": "stdout",
     "output_type": "stream",
     "text": [
      "hello sophie\n"
     ]
    }
   ],
   "source": [
    "print('hello sophie')"
   ]
  },
  {
   "cell_type": "markdown",
   "metadata": {},
   "source": [
    "# statements\n",
    "This is an example of a python statement. Statements are like the instructions given to the interpreter. Some standard statements in python include:\n",
    "\n",
    "1. print: Output any data type\n",
    "2. input: allows the user to input numbers and booleans. Warning: Can acccept a command as input.\n",
    "3. raw_input: allows the user to input strings. Recommended in place of input\n",
    "4. import: import a module into python."
   ]
  },
  {
   "cell_type": "code",
   "execution_count": 2,
   "metadata": {},
   "outputs": [
    {
     "name": "stdout",
     "output_type": "stream",
     "text": [
      "print also works with parenthesis\n"
     ]
    }
   ],
   "source": [
    "print(\"print also works with parenthesis\")\n"
   ]
  },
  {
   "cell_type": "code",
   "execution_count": 3,
   "metadata": {},
   "outputs": [
    {
     "ename": "NameError",
     "evalue": "name 'raw_input' is not defined",
     "output_type": "error",
     "traceback": [
      "\u001b[1;31m---------------------------------------------------------------------------\u001b[0m",
      "\u001b[1;31mNameError\u001b[0m                                 Traceback (most recent call last)",
      "\u001b[1;32m<ipython-input-3-a5cf17308712>\u001b[0m in \u001b[0;36m<module>\u001b[1;34m\u001b[0m\n\u001b[1;32m----> 1\u001b[1;33m \u001b[0mname\u001b[0m \u001b[1;33m=\u001b[0m \u001b[0mraw_input\u001b[0m\u001b[1;33m(\u001b[0m\u001b[1;34m\"Enter your name: \"\u001b[0m\u001b[1;33m)\u001b[0m\u001b[1;33m\u001b[0m\u001b[0m\n\u001b[0m\u001b[0;32m      2\u001b[0m \u001b[0mprint\u001b[0m\u001b[1;33m(\u001b[0m\u001b[0mname\u001b[0m\u001b[1;33m)\u001b[0m\u001b[1;33m\u001b[0m\u001b[0m\n",
      "\u001b[1;31mNameError\u001b[0m: name 'raw_input' is not defined"
     ]
    }
   ],
   "source": [
    "name = raw_input(\"Enter your name: \")\n",
    "print(name)"
   ]
  },
  {
   "cell_type": "code",
   "execution_count": 9,
   "metadata": {},
   "outputs": [
    {
     "name": "stdout",
     "output_type": "stream",
     "text": [
      "Enter your name: alfred and sophie\n",
      "alfred and sophie\n"
     ]
    }
   ],
   "source": [
    "name = input(\"Enter your name: \")\n",
    "print(name)"
   ]
  },
  {
   "cell_type": "markdown",
   "metadata": {},
   "source": [
    "## Variables\n",
    "In the piece of code above. You can observe that I used name to hold the value of whatever the user types and then printed it . Stuffs like name are called variables. Variables usually have a name and a value. They are like tags with the value the store. Their names are called identifiers. There some python naming conventions for identifiers. which are:\n",
    "\n",
    "1.Class names should be upper case and all others lowercase.\n",
    "\n",
    "2.An identifier is permitted to contain only A to Z, a to z, 0 to 9 and underscore.\n",
    "\n",
    "3.There are reserved words that cannot be used for identifiers. some of them are :\n",
    "\n",
    " and, exec, not, assert, finally, or, break, for, pass, class, from, print, continue, global, raise,    def, if, return, del, import, try, elif, in, while, else, is, with, except, lambda, yield"
   ]
  },
  {
   "cell_type": "code",
   "execution_count": 10,
   "metadata": {},
   "outputs": [
    {
     "name": "stdout",
     "output_type": "stream",
     "text": [
      "5000\n"
     ]
    }
   ],
   "source": [
    "income = 5000\n",
    "print (income)"
   ]
  },
  {
   "cell_type": "markdown",
   "metadata": {},
   "source": [
    "## Data Types\n",
    "Some of the built-in python data types include:\n",
    "\n",
    "1. Booleans: This is basically values true and false.\n",
    "\n",
    "2. Integers: Same as primitive integers in Mathematics\n",
    "\n",
    "3. Float: Used for representing decimals.\n",
    "\n",
    "4. Long: Used for representing very long decimal numbers\n",
    "\n",
    "5. String: Used for representing texts\n",
    "\n",
    "6. List: Used for representing list of items with the ability to change any item on the list\n",
    "\n",
    "7. Tuples: Same as lists, except items cannot be changed.\n",
    "\n",
    "9. Dictionaries: List of key value pairs.\n",
    "\n",
    "10. None: Used for representing unknown or empty variables"
   ]
  },
  {
   "cell_type": "code",
   "execution_count": 11,
   "metadata": {},
   "outputs": [
    {
     "name": "stdout",
     "output_type": "stream",
     "text": [
      "<class 'bool'>\n",
      "<class 'bool'>\n"
     ]
    }
   ],
   "source": [
    "# Booleans\n",
    "active = True\n",
    "inactive = False\n",
    "print (type(active))\n",
    "print (type(inactive))"
   ]
  },
  {
   "cell_type": "code",
   "execution_count": 12,
   "metadata": {},
   "outputs": [
    {
     "data": {
      "text/plain": [
       "int"
      ]
     },
     "execution_count": 12,
     "metadata": {},
     "output_type": "execute_result"
    }
   ],
   "source": [
    "type(100)"
   ]
  },
  {
   "cell_type": "code",
   "execution_count": null,
   "metadata": {},
   "outputs": [],
   "source": [
    "# Booleans\n",
    "active = True\n",
    "inactive = False\n",
    "print type(active)\n",
    "print type(inactive)"
   ]
  },
  {
   "cell_type": "markdown",
   "metadata": {},
   "source": [
    "Note the use of \"type\". It's a python statement for indicating the type of a particular variable."
   ]
  },
  {
   "cell_type": "code",
   "execution_count": 10,
   "metadata": {},
   "outputs": [
    {
     "name": "stdout",
     "output_type": "stream",
     "text": [
      "<class 'int'>\n"
     ]
    }
   ],
   "source": [
    "# Integers\n",
    "total = 500000\n",
    "print (type(total))"
   ]
  },
  {
   "cell_type": "code",
   "execution_count": 11,
   "metadata": {},
   "outputs": [
    {
     "name": "stdout",
     "output_type": "stream",
     "text": [
      "<class 'float'>\n"
     ]
    }
   ],
   "source": [
    "# floats\n",
    "amount = 5000000.00\n",
    "print (type(amount))"
   ]
  },
  {
   "cell_type": "code",
   "execution_count": 14,
   "metadata": {},
   "outputs": [
    {
     "data": {
      "text/plain": [
       "int"
      ]
     },
     "execution_count": 14,
     "metadata": {},
     "output_type": "execute_result"
    }
   ],
   "source": [
    "type(10**100000000)"
   ]
  },
  {
   "cell_type": "code",
   "execution_count": 17,
   "metadata": {},
   "outputs": [
    {
     "name": "stdout",
     "output_type": "stream",
     "text": [
      "<class 'int'>\n"
     ]
    }
   ],
   "source": [
    "# long\n",
    "#amount = 2L\n",
    "new_amount = 10**1000\n",
    "#print (type(amount))\n",
    "print (type(new_amount))"
   ]
  },
  {
   "cell_type": "code",
   "execution_count": 18,
   "metadata": {},
   "outputs": [
    {
     "name": "stdout",
     "output_type": "stream",
     "text": [
      "<class 'str'>\n",
      "<class 'str'>\n"
     ]
    }
   ],
   "source": [
    "# string\n",
    "language = \"English\"\n",
    "language1 = 'English'\n",
    "print(type(language1))\n",
    "print(type(language))"
   ]
  },
  {
   "cell_type": "code",
   "execution_count": 13,
   "metadata": {},
   "outputs": [
    {
     "name": "stdout",
     "output_type": "stream",
     "text": [
      "<class 'list'>\n"
     ]
    }
   ],
   "source": [
    "# list\n",
    "#[]\n",
    "items = [\"pen\", \"notebook\", \"laptop\"]\n",
    "print (type(items))"
   ]
  },
  {
   "cell_type": "code",
   "execution_count": 16,
   "metadata": {},
   "outputs": [
    {
     "data": {
      "text/plain": [
       "'pen'"
      ]
     },
     "execution_count": 16,
     "metadata": {},
     "output_type": "execute_result"
    }
   ],
   "source": [
    "items[0]"
   ]
  },
  {
   "cell_type": "code",
   "execution_count": 25,
   "metadata": {},
   "outputs": [
    {
     "name": "stdout",
     "output_type": "stream",
     "text": [
      "notebook\n"
     ]
    }
   ],
   "source": [
    "# let's try to replace one of the items\n",
    "# items can be accessed by positions. e.g\n",
    "print (items[1])"
   ]
  },
  {
   "cell_type": "code",
   "execution_count": 18,
   "metadata": {},
   "outputs": [
    {
     "data": {
      "text/plain": [
       "['pen', 'notebook', 'laptop']"
      ]
     },
     "execution_count": 18,
     "metadata": {},
     "output_type": "execute_result"
    }
   ],
   "source": [
    "items"
   ]
  },
  {
   "cell_type": "code",
   "execution_count": 19,
   "metadata": {},
   "outputs": [
    {
     "data": {
      "text/plain": [
       "['pen', 'keyboard', 'laptop']"
      ]
     },
     "execution_count": 19,
     "metadata": {},
     "output_type": "execute_result"
    }
   ],
   "source": [
    "items[1] = \"keyboard\"\n",
    "items"
   ]
  },
  {
   "cell_type": "code",
   "execution_count": 26,
   "metadata": {},
   "outputs": [
    {
     "name": "stdout",
     "output_type": "stream",
     "text": [
      "['pen', 'keyboard', 'laptop']\n"
     ]
    }
   ],
   "source": [
    "# let's replace notebook with keyboard\n",
    "items[1] = \"keyboard\"\n",
    "print (items)"
   ]
  },
  {
   "cell_type": "code",
   "execution_count": 20,
   "metadata": {},
   "outputs": [],
   "source": [
    "item = ('sophie','alfred','annabelle')"
   ]
  },
  {
   "cell_type": "code",
   "execution_count": 21,
   "metadata": {},
   "outputs": [
    {
     "data": {
      "text/plain": [
       "tuple"
      ]
     },
     "execution_count": 21,
     "metadata": {},
     "output_type": "execute_result"
    }
   ],
   "source": [
    "type(item)"
   ]
  },
  {
   "cell_type": "code",
   "execution_count": 27,
   "metadata": {},
   "outputs": [
    {
     "name": "stdout",
     "output_type": "stream",
     "text": [
      "<class 'tuple'>\n"
     ]
    }
   ],
   "source": [
    "# tuples\n",
    "items = (\"pen\", \"notebook\", \"laptop\")\n",
    "print( type(items))"
   ]
  },
  {
   "cell_type": "code",
   "execution_count": 28,
   "metadata": {},
   "outputs": [
    {
     "ename": "TypeError",
     "evalue": "'tuple' object does not support item assignment",
     "output_type": "error",
     "traceback": [
      "\u001b[1;31m---------------------------------------------------------------------------\u001b[0m",
      "\u001b[1;31mTypeError\u001b[0m                                 Traceback (most recent call last)",
      "\u001b[1;32m<ipython-input-28-dd58c0ba32ea>\u001b[0m in \u001b[0;36m<module>\u001b[1;34m\u001b[0m\n\u001b[0;32m      1\u001b[0m \u001b[1;31m# let's try to replace a tuple's item\u001b[0m\u001b[1;33m\u001b[0m\u001b[1;33m\u001b[0m\u001b[0m\n\u001b[1;32m----> 2\u001b[1;33m \u001b[0mitems\u001b[0m\u001b[1;33m[\u001b[0m\u001b[1;36m1\u001b[0m\u001b[1;33m]\u001b[0m \u001b[1;33m=\u001b[0m \u001b[1;34m\"keyboard\"\u001b[0m\u001b[1;33m\u001b[0m\u001b[0m\n\u001b[0m",
      "\u001b[1;31mTypeError\u001b[0m: 'tuple' object does not support item assignment"
     ]
    }
   ],
   "source": [
    "# let's try to replace a tuple's item\n",
    "items[1] = \"keyboard\""
   ]
  },
  {
   "cell_type": "code",
   "execution_count": 22,
   "metadata": {},
   "outputs": [
    {
     "name": "stdout",
     "output_type": "stream",
     "text": [
      "<class 'dict'>\n"
     ]
    }
   ],
   "source": [
    "# dictionary\n",
    "items = {\"first\": \"pen\", \"second\": \"notebook\", \"third\": \"laptop\"}\n",
    "print (type(items))"
   ]
  },
  {
   "cell_type": "code",
   "execution_count": 24,
   "metadata": {},
   "outputs": [
    {
     "name": "stdout",
     "output_type": "stream",
     "text": [
      "pen\n"
     ]
    }
   ],
   "source": [
    "# let's try to access an item with it's key\n",
    "print(items[\"first\"])"
   ]
  },
  {
   "cell_type": "code",
   "execution_count": 32,
   "metadata": {},
   "outputs": [
    {
     "name": "stdout",
     "output_type": "stream",
     "text": [
      "<class 'NoneType'>\n"
     ]
    }
   ],
   "source": [
    "# None\n",
    "nothing = None\n",
    "print (type(nothing))"
   ]
  },
  {
   "cell_type": "markdown",
   "metadata": {},
   "source": [
    "## Operators\n",
    "some of the major python operators include:\n",
    "\n",
    "1.Arithmetic: +, -, *, /, and % (modulus)\n",
    "\n",
    "2.Comparison: ==, !=, <, >, <=, >=\n",
    "\n",
    "3.Logical: and, or, not\n",
    "\n",
    "4.Exponentiation: **"
   ]
  },
  {
   "cell_type": "code",
   "execution_count": null,
   "metadata": {},
   "outputs": [],
   "source": [
    "name = 'alfred and sophie'"
   ]
  },
  {
   "cell_type": "code",
   "execution_count": 25,
   "metadata": {},
   "outputs": [
    {
     "data": {
      "text/plain": [
       "True"
      ]
     },
     "execution_count": 25,
     "metadata": {},
     "output_type": "execute_result"
    }
   ],
   "source": [
    "4 == 4"
   ]
  },
  {
   "cell_type": "code",
   "execution_count": 26,
   "metadata": {},
   "outputs": [
    {
     "data": {
      "text/plain": [
       "7"
      ]
     },
     "execution_count": 26,
     "metadata": {},
     "output_type": "execute_result"
    }
   ],
   "source": [
    "# Arithmetic\n",
    "3 + 4"
   ]
  },
  {
   "cell_type": "code",
   "execution_count": 27,
   "metadata": {},
   "outputs": [
    {
     "data": {
      "text/plain": [
       "'good bad'"
      ]
     },
     "execution_count": 27,
     "metadata": {},
     "output_type": "execute_result"
    }
   ],
   "source": [
    "# concatenate strings with addition operators\n",
    "\"good \" + \"bad\""
   ]
  },
  {
   "cell_type": "code",
   "execution_count": 28,
   "metadata": {},
   "outputs": [
    {
     "data": {
      "text/plain": [
       "12"
      ]
     },
     "execution_count": 28,
     "metadata": {},
     "output_type": "execute_result"
    }
   ],
   "source": [
    "3 * 4"
   ]
  },
  {
   "cell_type": "code",
   "execution_count": 30,
   "metadata": {},
   "outputs": [
    {
     "data": {
      "text/plain": [
       "'good good good good good good good good good good good good good good good good good good good good '"
      ]
     },
     "execution_count": 30,
     "metadata": {},
     "output_type": "execute_result"
    }
   ],
   "source": [
    "# strings multiplications\n",
    "\"good \" * 20"
   ]
  },
  {
   "cell_type": "code",
   "execution_count": 31,
   "metadata": {},
   "outputs": [
    {
     "data": {
      "text/plain": [
       "True"
      ]
     },
     "execution_count": 31,
     "metadata": {},
     "output_type": "execute_result"
    }
   ],
   "source": [
    "# Comparison\n",
    "4 == 4\n"
   ]
  },
  {
   "cell_type": "code",
   "execution_count": 32,
   "metadata": {},
   "outputs": [
    {
     "data": {
      "text/plain": [
       "True"
      ]
     },
     "execution_count": 32,
     "metadata": {},
     "output_type": "execute_result"
    }
   ],
   "source": [
    "\"good\" == \"good\""
   ]
  },
  {
   "cell_type": "code",
   "execution_count": 39,
   "metadata": {},
   "outputs": [
    {
     "data": {
      "text/plain": [
       "False"
      ]
     },
     "execution_count": 39,
     "metadata": {},
     "output_type": "execute_result"
    }
   ],
   "source": [
    "'6' == 6"
   ]
  },
  {
   "cell_type": "code",
   "execution_count": 40,
   "metadata": {},
   "outputs": [
    {
     "data": {
      "text/plain": [
       "True"
      ]
     },
     "execution_count": 40,
     "metadata": {},
     "output_type": "execute_result"
    }
   ],
   "source": [
    "# greater than\n",
    "5 > 3"
   ]
  },
  {
   "cell_type": "code",
   "execution_count": 43,
   "metadata": {},
   "outputs": [
    {
     "data": {
      "text/plain": [
       "True"
      ]
     },
     "execution_count": 43,
     "metadata": {},
     "output_type": "execute_result"
    }
   ],
   "source": [
    "# Logical operators\n",
    "4 == 4 or 4 == 4"
   ]
  },
  {
   "cell_type": "code",
   "execution_count": 45,
   "metadata": {},
   "outputs": [
    {
     "data": {
      "text/plain": [
       "True"
      ]
     },
     "execution_count": 45,
     "metadata": {},
     "output_type": "execute_result"
    }
   ],
   "source": [
    "4 == 4 and 4 == 4"
   ]
  },
  {
   "cell_type": "code",
   "execution_count": 46,
   "metadata": {},
   "outputs": [
    {
     "data": {
      "text/plain": [
       "4"
      ]
     },
     "execution_count": 46,
     "metadata": {},
     "output_type": "execute_result"
    }
   ],
   "source": [
    "# exponential operators\n",
    "2 ** 2"
   ]
  },
  {
   "cell_type": "markdown",
   "metadata": {},
   "source": [
    "1. What is printed by the Python code?\n",
    "x = 5\n",
    "y = x + 3\n",
    "x = x - 1\n",
    "z = 10\n",
    "x = x + z\n",
    "print('x: {}, y: {}, z: {}'.format(x, y, z))\n",
    "2. What is printed by the Python code?\n",
    " print(14//4, 14%4, 14.0/4)\n",
    "3. What is printed by the Python code?\n",
    "print(2*'No' + 3*'!')\n",
    "print(2 * ('No' + 3*'!'))\n",
    "4. What is printed by the Python code?\n",
    "Be careful: Note the backslashes:\n",
    "print('how\\nis it\\nnow')\n",
    "5. What is printed by the Python code?\n",
    "for z in [2, 4, 7, 9]:\n",
    " print(z - 1)\n",
    "6. What is printed by the Python code?\n",
    "print('2' + '3')\n",
    "7. What is printed by the Python code?\n",
    "def f1():\n",
    " print('Hi')\n",
    "def f2():\n",
    " print('Lo')\n",
    "f2()\n",
    "f1()\n",
    "f1()\n",
    "8. What is printed by the Python code?\n",
    "def func():\n",
    " print('Yes')\n",
    "print('No')\n",
    "func()\n",
    "9. What is printed by the Python code?\n",
    "def func(x):\n",
    " print(2*x)\n",
    "func(5)\n",
    "func(4)\n",
    "10. What is printed by the Python code?\n",
    "def func(x):\n",
    " return x - 1\n",
    "print(func(3) * func(5))\n",
    "11. What is printed by the Python code?\n",
    "n = 3 #1\n",
    "for x in [2, 5, 8]: #2\n",
    " n = n + x #3\n",
    "print(n) #4\n",
    "12. What is printed by the Python code?\n",
    "print(list(range(3)))\n",
    "13. What is printed by the Python code?\n",
    "for i in range(3):\n",
    " print('Hello again!')\n",
    "14. What is printed by the Python code?\n",
    "for i in range(4):\n",
    " print(i)\n",
    "15. What is printed by the Python code?\n",
    "def s(x): #1\n",
    " return x*x #2\n",
    "for n in [1, 2, 10]: #3\n",
    " print(s(n)) #4\n",
    "16. What is printed by the Python code?\n",
    "def s(x): #1\n",
    " return x*x #2\n",
    "tot = 0 #3\n",
    "for n in [1, 3, 5]: #4\n",
    " tot = tot + s(n) #5\n",
    "print(tot) #6\n",
    "17. What is printed by the Python code?\n",
    "x = 2.5679\n",
    "y = 9.0\n",
    "print('Answers {:.3f} and {:.3f}'.fo"
   ]
  },
  {
   "cell_type": "code",
   "execution_count": null,
   "metadata": {},
   "outputs": [],
   "source": []
  }
 ],
 "metadata": {
  "kernelspec": {
   "display_name": "Python 3",
   "language": "python",
   "name": "python3"
  },
  "language_info": {
   "codemirror_mode": {
    "name": "ipython",
    "version": 3
   },
   "file_extension": ".py",
   "mimetype": "text/x-python",
   "name": "python",
   "nbconvert_exporter": "python",
   "pygments_lexer": "ipython3",
   "version": "3.6.6"
  }
 },
 "nbformat": 4,
 "nbformat_minor": 2
}
