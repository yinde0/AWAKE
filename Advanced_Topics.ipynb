{
 "cells": [
  {
   "cell_type": "markdown",
   "metadata": {},
   "source": [
    "### Advanced Topics:\n",
    "Here we would explore some common functional tools used in Python.\n",
    "\n",
    "### Lambda\n",
    "This is very useful whenever we want to create an anonymous function. Like an inline function that is not resusable or needed beyond that point. It can be an overkill to start defining a new function for solving every little problem. Lambda was introduced in python to address such issues.\n",
    "\n",
    "used like this\n",
    "\n",
    "lambda < arguments > : < expressions >\n",
    "\n",
    "For example, let's create a function for adding two numbers"
   ]
  },
  {
   "cell_type": "code",
   "execution_count": 1,
   "metadata": {},
   "outputs": [],
   "source": [
    "# named function way\n",
    "def func(x,y):\n",
    "    return x+y"
   ]
  },
  {
   "cell_type": "code",
   "execution_count": 6,
   "metadata": {},
   "outputs": [
    {
     "data": {
      "text/plain": [
       "6"
      ]
     },
     "execution_count": 6,
     "metadata": {},
     "output_type": "execute_result"
    }
   ],
   "source": [
    "func(2,3)"
   ]
  },
  {
   "cell_type": "code",
   "execution_count": 8,
   "metadata": {},
   "outputs": [
    {
     "name": "stdout",
     "output_type": "stream",
     "text": [
      "5\n"
     ]
    }
   ],
   "source": [
    "func = lambda x: x+2\n",
    "print(func(3))"
   ]
  },
  {
   "cell_type": "code",
   "execution_count": 9,
   "metadata": {},
   "outputs": [],
   "source": [
    "# lambda way\n",
    "func = lambda x,y: x+y # \n",
    "#print func(2,3) # treat like a function"
   ]
  },
  {
   "cell_type": "code",
   "execution_count": 12,
   "metadata": {},
   "outputs": [
    {
     "data": {
      "text/plain": [
       "4"
      ]
     },
     "execution_count": 12,
     "metadata": {},
     "output_type": "execute_result"
    }
   ],
   "source": [
    "func(2,2)"
   ]
  },
  {
   "cell_type": "markdown",
   "metadata": {},
   "source": [
    "### Map\n",
    "There are sometimes when we need to apply a function to each element in an iterable such as a list.\n",
    "\n",
    "used like this\n",
    "\n",
    "map(function, iterable)\n",
    "\n",
    "For example, imagine we want to square every single number in an iterable"
   ]
  },
  {
   "cell_type": "code",
   "execution_count": 13,
   "metadata": {},
   "outputs": [
    {
     "name": "stdout",
     "output_type": "stream",
     "text": [
      "[1, 9, 16, 36]\n"
     ]
    }
   ],
   "source": [
    "# We could do a for loop\n",
    "items = [1,3,4,6]\n",
    "for i in range(len(items)):\n",
    "    items[i] = items[i] ** 2\n",
    "print (items)"
   ]
  },
  {
   "cell_type": "code",
   "execution_count": 20,
   "metadata": {},
   "outputs": [
    {
     "name": "stdout",
     "output_type": "stream",
     "text": [
      "[1, 9, 16, 36]\n"
     ]
    }
   ],
   "source": [
    "# we could combine lambda and map together, they are often combined anyway\n",
    "items = [1,3,4,6]\n",
    "items =  map(lambda x : x**2, items)\n",
    "print(list(items))"
   ]
  },
  {
   "cell_type": "code",
   "execution_count": 22,
   "metadata": {},
   "outputs": [
    {
     "data": {
      "text/plain": [
       "tuple"
      ]
     },
     "execution_count": 22,
     "metadata": {},
     "output_type": "execute_result"
    }
   ],
   "source": [
    "ls = (1,2,3)\n",
    "type(ls)"
   ]
  },
  {
   "cell_type": "code",
   "execution_count": null,
   "metadata": {},
   "outputs": [],
   "source": [
    "# we could also use it without lambda.\n",
    "items = [1,3,4,6]\n",
    "def func(x):\n",
    "    return x**2\n",
    "print map(func, items)"
   ]
  },
  {
   "cell_type": "markdown",
   "metadata": {},
   "source": [
    "### Filters\n",
    "There are also situations where we need to check for members of a list that fulfil certain conditions. Filters were made for handling this kinds of problems.\n",
    "\n",
    "used similarly to maps.\n",
    "\n",
    "filter(function, iterable)\n",
    "\n",
    "As an example, assuming we want to print all the items on a list that are greater than 3."
   ]
  },
  {
   "cell_type": "code",
   "execution_count": 24,
   "metadata": {},
   "outputs": [
    {
     "name": "stdout",
     "output_type": "stream",
     "text": [
      "<filter object at 0x0000012CBA37AC50>\n"
     ]
    }
   ],
   "source": [
    "items = [1,2,3,4,5,6]\n",
    "\n",
    "print (filter(lambda x: x> 3, items)) # the function should return a boolean value."
   ]
  },
  {
   "cell_type": "markdown",
   "metadata": {},
   "source": [
    "### List Comprehension\n",
    "This is an alternative to map and filter.\n",
    "\n",
    "used like this\n",
    "\n",
    "[operation, loop, condition]\n",
    "\n",
    "Let's try to do the above examples with list comprehension"
   ]
  },
  {
   "cell_type": "code",
   "execution_count": 26,
   "metadata": {},
   "outputs": [
    {
     "name": "stdout",
     "output_type": "stream",
     "text": [
      "[1, 9, 16, 36]\n"
     ]
    }
   ],
   "source": [
    "items = [1,3,4,6] ## square every item\n",
    "print ([x**2 for x in items])"
   ]
  },
  {
   "cell_type": "code",
   "execution_count": null,
   "metadata": {},
   "outputs": [],
   "source": [
    "items = [1,2,3,4,5,6]\n",
    "print [x for x in items if x > 3]\n",
    "\n",
    "# It is advisable to use generator expressions to save space\n",
    "gen =  (x for x in items if x>3)\n",
    "print gen\n",
    "# for i in gen:  # get all the elements\n",
    "#     print i\n",
    "print gen.next() # get an element when needed\n",
    "print gen.next()"
   ]
  },
  {
   "cell_type": "markdown",
   "metadata": {},
   "source": [
    "### Reduce\n",
    "reduce is used to perform a function on all the elements of an iterable typically reducing it to a number.\n",
    "\n",
    "used like this\n",
    "\n",
    "reduce(function, iterable)\n",
    "\n",
    "for example we can reduce a list to products of all the elements."
   ]
  },
  {
   "cell_type": "code",
   "execution_count": 27,
   "metadata": {},
   "outputs": [
    {
     "ename": "NameError",
     "evalue": "name 'reduce' is not defined",
     "output_type": "error",
     "traceback": [
      "\u001b[1;31m---------------------------------------------------------------------------\u001b[0m",
      "\u001b[1;31mNameError\u001b[0m                                 Traceback (most recent call last)",
      "\u001b[1;32m<ipython-input-27-2b4cd871a9ec>\u001b[0m in \u001b[0;36m<module>\u001b[1;34m\u001b[0m\n\u001b[0;32m      1\u001b[0m \u001b[0mitems\u001b[0m \u001b[1;33m=\u001b[0m \u001b[1;33m[\u001b[0m\u001b[1;36m1\u001b[0m\u001b[1;33m,\u001b[0m\u001b[1;36m3\u001b[0m\u001b[1;33m,\u001b[0m\u001b[1;36m4\u001b[0m\u001b[1;33m,\u001b[0m\u001b[1;36m6\u001b[0m\u001b[1;33m]\u001b[0m\u001b[1;33m\u001b[0m\u001b[0m\n\u001b[1;32m----> 2\u001b[1;33m \u001b[0mprint\u001b[0m \u001b[1;33m(\u001b[0m\u001b[0mreduce\u001b[0m\u001b[1;33m(\u001b[0m\u001b[1;32mlambda\u001b[0m \u001b[0mx\u001b[0m\u001b[1;33m,\u001b[0m\u001b[0my\u001b[0m\u001b[1;33m:\u001b[0m \u001b[0mx\u001b[0m\u001b[1;33m*\u001b[0m\u001b[0my\u001b[0m\u001b[1;33m,\u001b[0m \u001b[0mitems\u001b[0m\u001b[1;33m)\u001b[0m\u001b[1;33m)\u001b[0m\u001b[1;33m\u001b[0m\u001b[0m\n\u001b[0m",
      "\u001b[1;31mNameError\u001b[0m: name 'reduce' is not defined"
     ]
    }
   ],
   "source": [
    "items = [1,3,4,6]\n",
    "print (reduce(lambda x,y: x*y, items))"
   ]
  },
  {
   "cell_type": "code",
   "execution_count": null,
   "metadata": {},
   "outputs": [],
   "source": [
    "item = [3,4,6,8,0,9]\n",
    "itewm = [1,2,3,3]"
   ]
  }
 ],
 "metadata": {
  "kernelspec": {
   "display_name": "Python 3",
   "language": "python",
   "name": "python3"
  },
  "language_info": {
   "codemirror_mode": {
    "name": "ipython",
    "version": 3
   },
   "file_extension": ".py",
   "mimetype": "text/x-python",
   "name": "python",
   "nbconvert_exporter": "python",
   "pygments_lexer": "ipython3",
   "version": "3.6.6"
  }
 },
 "nbformat": 4,
 "nbformat_minor": 2
}
