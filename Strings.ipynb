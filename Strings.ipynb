{
 "cells": [
  {
   "cell_type": "markdown",
   "metadata": {},
   "source": [
    "## Python Strings:\n",
    "A string is a sequence of characters i.e, a list of characters in order. Characters are converted to numbers called \"encoding\", while the reverse is called \"decoding\". Some standard encoding techniques are ASCII and Unicode. It was an idea of converting every character to numbers in a standard way. This includes every single key that can be typed on the keyboard."
   ]
  },
  {
   "cell_type": "markdown",
   "metadata": {},
   "source": [
    "Other resources :\n",
    "http://www.openbookproject.net/books/bpp4awd/ch04.html\n",
    "https://www.w3resource.com/python-exercises/string/"
   ]
  },
  {
   "cell_type": "markdown",
   "metadata": {},
   "source": [
    "## String Creation\n",
    "Python recognizes strings as anything between double or single quotation mark. \"\" or ''"
   ]
  },
  {
   "cell_type": "code",
   "execution_count": 48,
   "metadata": {},
   "outputs": [
    {
     "name": "stdout",
     "output_type": "stream",
     "text": [
      "I am a single quote\n",
      "                   \n",
      "I am a double quote\n",
      "                \n",
      "Hello folks, I am\n",
      "a multi line string and sometimes I am used for commenting\n"
     ]
    }
   ],
   "source": [
    "# create with single quote '' or double quote \"\"\n",
    "\n",
    "single_quote = 'I am a single quote'\n",
    "double_quote = \"I am a double quote\"\n",
    "print (single_quote)\n",
    "print (\"                   \")\n",
    "print (double_quote)\n",
    "print (\"                \")\n",
    "\n",
    "# sometimes multiline strings\n",
    "multi_line = \"\"\"Hello folks, I am\n",
    "a multi line string and sometimes I am used for commenting\"\"\"\n",
    "print (multi_line)"
   ]
  },
  {
   "cell_type": "code",
   "execution_count": null,
   "metadata": {},
   "outputs": [],
   "source": [
    "list[1]"
   ]
  },
  {
   "cell_type": "markdown",
   "metadata": {},
   "source": [
    "## Indexing\n",
    "\n",
    "It is possible to access each character in a string by a technique called indexing. It's a way of instructing what position a particular character is located. Python uses what is called zero indexing, i.e the first item is accessed by 0 and reverse indexing, i.e -1 would access last item and -2 last two item et.c. when a position is indicated that does not exist, python throws an index error."
   ]
  },
  {
   "cell_type": "code",
   "execution_count": 50,
   "metadata": {},
   "outputs": [
    {
     "data": {
      "text/plain": [
       "3"
      ]
     },
     "execution_count": 50,
     "metadata": {},
     "output_type": "execute_result"
    }
   ],
   "source": [
    "list =[1,5,3,8,9]\n",
    "list[2]"
   ]
  },
  {
   "cell_type": "code",
   "execution_count": 59,
   "metadata": {},
   "outputs": [
    {
     "data": {
      "text/plain": [
       "'Hello  w'"
      ]
     },
     "execution_count": 59,
     "metadata": {},
     "output_type": "execute_result"
    }
   ],
   "source": [
    "index_me = \"Hello  world!\"\n",
    "index_me[0:8]"
   ]
  },
  {
   "cell_type": "code",
   "execution_count": 63,
   "metadata": {},
   "outputs": [
    {
     "name": "stdout",
     "output_type": "stream",
     "text": [
      "H\n",
      "l\n"
     ]
    }
   ],
   "source": [
    "index_me = \"Hello world!\"\n",
    "\n",
    "# integer indexing \n",
    "first_char = index_me[0]\n",
    "third_char = index_me[2]\n",
    "\n",
    "print (first_char)\n",
    "print (third_char)"
   ]
  },
  {
   "cell_type": "code",
   "execution_count": 60,
   "metadata": {},
   "outputs": [
    {
     "name": "stdout",
     "output_type": "stream",
     "text": [
      "!\n",
      "d\n"
     ]
    }
   ],
   "source": [
    "# negative indexing\n",
    "last_char = index_me[-1]\n",
    "last_two_char = index_me[-2]\n",
    "print (last_char)\n",
    "print (last_two_char)"
   ]
  },
  {
   "cell_type": "code",
   "execution_count": 64,
   "metadata": {},
   "outputs": [
    {
     "data": {
      "text/plain": [
       "12"
      ]
     },
     "execution_count": 64,
     "metadata": {},
     "output_type": "execute_result"
    }
   ],
   "source": [
    "len(index_me)"
   ]
  },
  {
   "cell_type": "code",
   "execution_count": 65,
   "metadata": {},
   "outputs": [
    {
     "ename": "IndexError",
     "evalue": "string index out of range",
     "output_type": "error",
     "traceback": [
      "\u001b[1;31m---------------------------------------------------------------------------\u001b[0m",
      "\u001b[1;31mIndexError\u001b[0m                                Traceback (most recent call last)",
      "\u001b[1;32m<ipython-input-65-02cba7013084>\u001b[0m in \u001b[0;36m<module>\u001b[1;34m\u001b[0m\n\u001b[0;32m      1\u001b[0m \u001b[1;31m# try to print an out of range stuff\u001b[0m\u001b[1;33m\u001b[0m\u001b[1;33m\u001b[0m\u001b[0m\n\u001b[1;32m----> 2\u001b[1;33m \u001b[0mout_of_range\u001b[0m \u001b[1;33m=\u001b[0m \u001b[0mindex_me\u001b[0m\u001b[1;33m[\u001b[0m\u001b[1;36m12\u001b[0m\u001b[1;33m]\u001b[0m\u001b[1;33m\u001b[0m\u001b[0m\n\u001b[0m",
      "\u001b[1;31mIndexError\u001b[0m: string index out of range"
     ]
    }
   ],
   "source": [
    "# try to print an out of range stuff\n",
    "out_of_range = index_me[12]"
   ]
  },
  {
   "cell_type": "code",
   "execution_count": 6,
   "metadata": {},
   "outputs": [
    {
     "name": "stdout",
     "output_type": "stream",
     "text": [
      "Hel\n"
     ]
    }
   ],
   "source": [
    "# oops! 12 is out of range\n",
    "\n",
    "# slicing indexing\n",
    "first_to_third = index_me[0: 3]\n",
    "print (first_to_third)"
   ]
  },
  {
   "cell_type": "code",
   "execution_count": 71,
   "metadata": {},
   "outputs": [
    {
     "data": {
      "text/plain": [
       "'hello world'"
      ]
     },
     "execution_count": 71,
     "metadata": {},
     "output_type": "execute_result"
    }
   ],
   "source": [
    "last[:]"
   ]
  },
  {
   "cell_type": "code",
   "execution_count": 70,
   "metadata": {},
   "outputs": [
    {
     "name": "stdout",
     "output_type": "stream",
     "text": [
      "world\n",
      "worl\n"
     ]
    },
    {
     "data": {
      "text/plain": [
       "'world'"
      ]
     },
     "execution_count": 70,
     "metadata": {},
     "output_type": "execute_result"
    }
   ],
   "source": [
    "last = 'hello world'\n",
    "print(last[6:])\n",
    "print(last[6:-1])\n",
    "last[6:11]"
   ]
  },
  {
   "cell_type": "code",
   "execution_count": 7,
   "metadata": {},
   "outputs": [
    {
     "name": "stdout",
     "output_type": "stream",
     "text": [
      "world\n"
     ]
    }
   ],
   "source": [
    "# print only \"world\"\n",
    "only_world = index_me[6:-1]\n",
    "print (only_world)"
   ]
  },
  {
   "cell_type": "markdown",
   "metadata": {},
   "source": [
    "Note: observe how slicing works. It picks from the position of the first number and stops just before the position of the last number, i.e it doesn't include the last number.\n",
    "\n",
    "1. ### index_me[start:end]:\n",
    "    \n",
    "2. ### index_me[:end]\n",
    "If nothing is included before the colon, it picks everything before the second position\n",
    "\n",
    "3. ### index_me[start:]\n",
    "if nothing is included after the colon, it also picks everything after the first position.\n",
    "\n",
    "4. ### index_me[:]:\n",
    "If only colon is included, it duplicate the whole string."
   ]
  },
  {
   "cell_type": "code",
   "execution_count": 8,
   "metadata": {},
   "outputs": [
    {
     "name": "stdout",
     "output_type": "stream",
     "text": [
      "Hello\n",
      "world!\n",
      "Hello world!\n"
     ]
    }
   ],
   "source": [
    "#\n",
    "no_before = index_me[:5]\n",
    "no_after = index_me[6:]\n",
    "nothing = index_me[:]\n",
    "print (no_before)\n",
    "print (no_after)\n",
    "print (nothing)"
   ]
  },
  {
   "cell_type": "markdown",
   "metadata": {},
   "source": [
    "Python strings are immutable, i.e You can't change the characters of the string and you can't delete characters"
   ]
  },
  {
   "cell_type": "code",
   "execution_count": 72,
   "metadata": {},
   "outputs": [
    {
     "data": {
      "text/plain": [
       "'hello world'"
      ]
     },
     "execution_count": 72,
     "metadata": {},
     "output_type": "execute_result"
    }
   ],
   "source": [
    "last"
   ]
  },
  {
   "cell_type": "code",
   "execution_count": 73,
   "metadata": {},
   "outputs": [
    {
     "ename": "TypeError",
     "evalue": "'str' object does not support item assignment",
     "output_type": "error",
     "traceback": [
      "\u001b[1;31m---------------------------------------------------------------------------\u001b[0m",
      "\u001b[1;31mTypeError\u001b[0m                                 Traceback (most recent call last)",
      "\u001b[1;32m<ipython-input-73-b6fd59e79ab8>\u001b[0m in \u001b[0;36m<module>\u001b[1;34m\u001b[0m\n\u001b[1;32m----> 1\u001b[1;33m \u001b[0mlast\u001b[0m\u001b[1;33m[\u001b[0m\u001b[1;36m0\u001b[0m\u001b[1;33m]\u001b[0m \u001b[1;33m=\u001b[0m \u001b[1;34m'dos'\u001b[0m\u001b[1;33m\u001b[0m\u001b[0m\n\u001b[0m",
      "\u001b[1;31mTypeError\u001b[0m: 'str' object does not support item assignment"
     ]
    }
   ],
   "source": [
    "last[0] = 'dos'"
   ]
  },
  {
   "cell_type": "code",
   "execution_count": 9,
   "metadata": {
    "scrolled": true
   },
   "outputs": [
    {
     "ename": "TypeError",
     "evalue": "'str' object does not support item assignment",
     "output_type": "error",
     "traceback": [
      "\u001b[1;31m---------------------------------------------------------------------------\u001b[0m",
      "\u001b[1;31mTypeError\u001b[0m                                 Traceback (most recent call last)",
      "\u001b[1;32m<ipython-input-9-f54643d3e727>\u001b[0m in \u001b[0;36m<module>\u001b[1;34m\u001b[0m\n\u001b[1;32m----> 1\u001b[1;33m \u001b[0mindex_me\u001b[0m\u001b[1;33m[\u001b[0m\u001b[1;36m0\u001b[0m\u001b[1;33m]\u001b[0m \u001b[1;33m=\u001b[0m \u001b[1;34m\"a\"\u001b[0m\u001b[1;33m\u001b[0m\u001b[0m\n\u001b[0m",
      "\u001b[1;31mTypeError\u001b[0m: 'str' object does not support item assignment"
     ]
    }
   ],
   "source": [
    "index_me[0] = \"a\""
   ]
  },
  {
   "cell_type": "code",
   "execution_count": 10,
   "metadata": {},
   "outputs": [
    {
     "ename": "TypeError",
     "evalue": "'str' object doesn't support item deletion",
     "output_type": "error",
     "traceback": [
      "\u001b[1;31m---------------------------------------------------------------------------\u001b[0m",
      "\u001b[1;31mTypeError\u001b[0m                                 Traceback (most recent call last)",
      "\u001b[1;32m<ipython-input-10-a64ba6fb8eea>\u001b[0m in \u001b[0;36m<module>\u001b[1;34m\u001b[0m\n\u001b[1;32m----> 1\u001b[1;33m \u001b[1;32mdel\u001b[0m \u001b[0mindex_me\u001b[0m\u001b[1;33m[\u001b[0m\u001b[1;36m1\u001b[0m\u001b[1;33m]\u001b[0m\u001b[1;33m\u001b[0m\u001b[0m\n\u001b[0m",
      "\u001b[1;31mTypeError\u001b[0m: 'str' object doesn't support item deletion"
     ]
    }
   ],
   "source": [
    "del index_me[1]"
   ]
  },
  {
   "cell_type": "markdown",
   "metadata": {},
   "source": [
    "## String Operations\n",
    "\n",
    "Strings can be concatenated, i.e joined into a single one. Concatenation is made possible by using the '+' operator and '*' operator."
   ]
  },
  {
   "cell_type": "code",
   "execution_count": 76,
   "metadata": {
    "scrolled": true
   },
   "outputs": [
    {
     "name": "stdout",
     "output_type": "stream",
     "text": [
      "Hello World!\n"
     ]
    }
   ],
   "source": [
    "# concatenation with '+'\n",
    "first_str = \"Hello \"\n",
    "second_str = \"World!\"\n",
    "final_str = first_str + second_str\n",
    "print (final_str)"
   ]
  },
  {
   "cell_type": "code",
   "execution_count": 75,
   "metadata": {},
   "outputs": [
    {
     "name": "stdout",
     "output_type": "stream",
     "text": [
      "Hello  World!\n"
     ]
    }
   ],
   "source": [
    "# You can concatenate three strings\n",
    "final_str = first_str + \" \" + second_str\n",
    "print (final_str)"
   ]
  },
  {
   "cell_type": "code",
   "execution_count": 14,
   "metadata": {},
   "outputs": [
    {
     "name": "stdout",
     "output_type": "stream",
     "text": [
      "HelloHelloHello\n"
     ]
    }
   ],
   "source": [
    "# concatenate with '*'\n",
    "final_str = first_str * 3\n",
    "print (final_str)"
   ]
  },
  {
   "cell_type": "code",
   "execution_count": 77,
   "metadata": {},
   "outputs": [
    {
     "name": "stdout",
     "output_type": "stream",
     "text": [
      "Hello Hello Hello \n"
     ]
    }
   ],
   "source": [
    "# add space \n",
    "final_str = (first_str) * 3\n",
    "print (final_str)"
   ]
  },
  {
   "cell_type": "code",
   "execution_count": 16,
   "metadata": {},
   "outputs": [
    {
     "name": "stdout",
     "output_type": "stream",
     "text": [
      "5\n"
     ]
    }
   ],
   "source": [
    "# length of a string \n",
    "len_of_str = len(first_str)\n",
    "print (len_of_str)"
   ]
  },
  {
   "cell_type": "markdown",
   "metadata": {},
   "source": [
    "## String Methods\n",
    "\n",
    "There are a lot of built-in strings methods that make working with strings easier and efficient. There's a full list here. www.programiz.com/python-programming/methods/string"
   ]
  },
  {
   "cell_type": "code",
   "execution_count": 18,
   "metadata": {},
   "outputs": [
    {
     "name": "stdout",
     "output_type": "stream",
     "text": [
      "3\n"
     ]
    }
   ],
   "source": [
    "new_word = \"hello world!\"\n",
    "\n",
    "print (new_word.count(\"l\")) # count how many times l occurs"
   ]
  },
  {
   "cell_type": "code",
   "execution_count": 82,
   "metadata": {
    "scrolled": true
   },
   "outputs": [
    {
     "name": "stdout",
     "output_type": "stream",
     "text": [
      "3\n",
      "4\n"
     ]
    }
   ],
   "source": [
    "x = 'dos of mssn'\n",
    "print(x.count('s'))\n",
    "print(x.find('of'))"
   ]
  },
  {
   "cell_type": "code",
   "execution_count": 92,
   "metadata": {},
   "outputs": [],
   "source": [
    "x = 'dos of mssn'"
   ]
  },
  {
   "cell_type": "code",
   "execution_count": 93,
   "metadata": {},
   "outputs": [
    {
     "data": {
      "text/plain": [
       "'dos of mssn'"
      ]
     },
     "execution_count": 93,
     "metadata": {},
     "output_type": "execute_result"
    }
   ],
   "source": [
    "x"
   ]
  },
  {
   "cell_type": "code",
   "execution_count": 94,
   "metadata": {},
   "outputs": [
    {
     "data": {
      "text/plain": [
       "str"
      ]
     },
     "execution_count": 94,
     "metadata": {},
     "output_type": "execute_result"
    }
   ],
   "source": [
    "type(x)"
   ]
  },
  {
   "cell_type": "code",
   "execution_count": 95,
   "metadata": {},
   "outputs": [],
   "source": [
    "dos = x.split(\" \")"
   ]
  },
  {
   "cell_type": "code",
   "execution_count": 96,
   "metadata": {},
   "outputs": [
    {
     "data": {
      "text/plain": [
       "['dos', 'of', 'mssn']"
      ]
     },
     "execution_count": 96,
     "metadata": {},
     "output_type": "execute_result"
    }
   ],
   "source": [
    "dos"
   ]
  },
  {
   "cell_type": "code",
   "execution_count": 97,
   "metadata": {},
   "outputs": [
    {
     "data": {
      "text/plain": [
       "list"
      ]
     },
     "execution_count": 97,
     "metadata": {},
     "output_type": "execute_result"
    }
   ],
   "source": [
    "type(dos)"
   ]
  },
  {
   "cell_type": "code",
   "execution_count": null,
   "metadata": {},
   "outputs": [],
   "source": []
  },
  {
   "cell_type": "code",
   "execution_count": 86,
   "metadata": {},
   "outputs": [
    {
     "name": "stdout",
     "output_type": "stream",
     "text": [
      "['do', ' of m', '', 'n']\n"
     ]
    }
   ],
   "source": [
    "print(x.split(\" \"))"
   ]
  },
  {
   "cell_type": "code",
   "execution_count": 20,
   "metadata": {},
   "outputs": [
    {
     "name": "stdout",
     "output_type": "stream",
     "text": [
      "11\n"
     ]
    }
   ],
   "source": [
    "print (new_word.find(\"!\") )# find the occurence of \"!\""
   ]
  },
  {
   "cell_type": "code",
   "execution_count": 22,
   "metadata": {},
   "outputs": [
    {
     "name": "stdout",
     "output_type": "stream",
     "text": [
      "6\n"
     ]
    }
   ],
   "source": [
    "print (new_word.find(\"world\")) # find the occurence of substrings"
   ]
  },
  {
   "cell_type": "code",
   "execution_count": 23,
   "metadata": {},
   "outputs": [
    {
     "name": "stdout",
     "output_type": "stream",
     "text": [
      "-1\n"
     ]
    }
   ],
   "source": [
    "print (new_word.find(\"not there\")) # should give -1 if substring is not found."
   ]
  },
  {
   "cell_type": "code",
   "execution_count": 24,
   "metadata": {},
   "outputs": [
    {
     "name": "stdout",
     "output_type": "stream",
     "text": [
      "['hello', 'world!']\n"
     ]
    }
   ],
   "source": [
    "_list = new_word.split(\" \") # a string can be splitted to a list\n",
    "print (_list)"
   ]
  },
  {
   "cell_type": "code",
   "execution_count": 25,
   "metadata": {},
   "outputs": [
    {
     "name": "stdout",
     "output_type": "stream",
     "text": [
      "hello world!\n"
     ]
    }
   ],
   "source": [
    "print (\" \".join(_list) )# join a list to form a string"
   ]
  },
  {
   "cell_type": "code",
   "execution_count": 27,
   "metadata": {},
   "outputs": [
    {
     "name": "stdout",
     "output_type": "stream",
     "text": [
      "False\n"
     ]
    }
   ],
   "source": [
    "print (new_word.startswith('H')) #"
   ]
  },
  {
   "cell_type": "code",
   "execution_count": 28,
   "metadata": {},
   "outputs": [
    {
     "name": "stdout",
     "output_type": "stream",
     "text": [
      "welcome world!\n"
     ]
    }
   ],
   "source": [
    "print (new_word.replace(\"hello\", \"welcome\"))"
   ]
  },
  {
   "cell_type": "code",
   "execution_count": 29,
   "metadata": {},
   "outputs": [
    {
     "name": "stdout",
     "output_type": "stream",
     "text": [
      "HELLO WORLD!\n"
     ]
    }
   ],
   "source": [
    "print (new_word.upper())# convert all cahracters to upper case"
   ]
  },
  {
   "cell_type": "code",
   "execution_count": 30,
   "metadata": {},
   "outputs": [
    {
     "name": "stdout",
     "output_type": "stream",
     "text": [
      "hello world\n"
     ]
    }
   ],
   "source": [
    "print (new_word.strip(\"!\")) # remove a character"
   ]
  },
  {
   "cell_type": "markdown",
   "metadata": {},
   "source": [
    "## String Formatting"
   ]
  },
  {
   "cell_type": "code",
   "execution_count": 32,
   "metadata": {},
   "outputs": [
    {
     "name": "stdout",
     "output_type": "stream",
     "text": [
      "my name is Saad and my surname is Salami\n"
     ]
    }
   ],
   "source": [
    "#format printing by concatenation\n",
    "name = \"Saad\"\n",
    "surname = \"Salami\"\n",
    "\n",
    "print(\"my name is \" + name + \" and my surname is \" + surname)"
   ]
  },
  {
   "cell_type": "code",
   "execution_count": 34,
   "metadata": {},
   "outputs": [
    {
     "name": "stdout",
     "output_type": "stream",
     "text": [
      "my father's name is Salami\n",
      "my father's name is Salami\n"
     ]
    }
   ],
   "source": [
    "# escape using backslash\n",
    "print (\"my father's name is Salami\")\n",
    "\n",
    "# or \n",
    "\n",
    "print ('my father\\'s name is Salami')"
   ]
  },
  {
   "cell_type": "markdown",
   "metadata": {},
   "source": [
    "other escape sequence include:\n",
    "\n",
    "1. \\ Backslash\n",
    "2. \\' single quote\n",
    "3. \\\" double quote\n",
    "4. \\n next line\n",
    "5. \\r carriage return"
   ]
  },
  {
   "cell_type": "code",
   "execution_count": 36,
   "metadata": {},
   "outputs": [
    {
     "name": "stdout",
     "output_type": "stream",
     "text": [
      "c:\\program-files\\\n"
     ]
    }
   ],
   "source": [
    "print (\"c:\\\\program-files\\\\\")"
   ]
  },
  {
   "cell_type": "code",
   "execution_count": 37,
   "metadata": {
    "scrolled": true
   },
   "outputs": [
    {
     "name": "stdout",
     "output_type": "stream",
     "text": [
      "I am going to \n",
      " the next line\n"
     ]
    }
   ],
   "source": [
    "print (\"I am going to \\n the next line\")"
   ]
  },
  {
   "cell_type": "code",
   "execution_count": 99,
   "metadata": {},
   "outputs": [
    {
     "name": "stdout",
     "output_type": "stream",
     "text": [
      "my name is saad and I am a student of unilag\n"
     ]
    }
   ],
   "source": [
    "# using the format method to format strings\n",
    "name = 'saad'\n",
    "school = 'unilag'\n",
    "print( 'my name is {} and I am a student of {}'.format(name,school))"
   ]
  },
  {
   "cell_type": "code",
   "execution_count": 101,
   "metadata": {},
   "outputs": [
    {
     "name": "stdout",
     "output_type": "stream",
     "text": [
      "i am salami saad\n"
     ]
    }
   ],
   "source": [
    "print('i am {} {}'.format('salami','saad'))"
   ]
  },
  {
   "cell_type": "code",
   "execution_count": 42,
   "metadata": {},
   "outputs": [
    {
     "name": "stdout",
     "output_type": "stream",
     "text": [
      "Officially salami Sada\n"
     ]
    }
   ],
   "source": [
    "# use keyword argument\n",
    "name = 'Saad'\n",
    "surname = 'Salami'\n",
    "print (\"Officially {s} {n}\".format(n=name, s=surname))"
   ]
  },
  {
   "cell_type": "code",
   "execution_count": 44,
   "metadata": {},
   "outputs": [
    {
     "name": "stdout",
     "output_type": "stream",
     "text": [
      "pi is 3.14\n"
     ]
    }
   ],
   "source": [
    "# use % to format\n",
    "pi = 3.14159\n",
    "print (\"pi is %1.2f\" %pi )"
   ]
  },
  {
   "cell_type": "code",
   "execution_count": 45,
   "metadata": {
    "scrolled": true
   },
   "outputs": [
    {
     "ename": "SyntaxError",
     "evalue": "Missing parentheses in call to 'print'. Did you mean print(\"pi is %1.3f\" %pi)? (<ipython-input-45-5e36e19ea7db>, line 1)",
     "output_type": "error",
     "traceback": [
      "\u001b[1;36m  File \u001b[1;32m\"<ipython-input-45-5e36e19ea7db>\"\u001b[1;36m, line \u001b[1;32m1\u001b[0m\n\u001b[1;33m    print \"pi is %1.3f\" %pi\u001b[0m\n\u001b[1;37m                      ^\u001b[0m\n\u001b[1;31mSyntaxError\u001b[0m\u001b[1;31m:\u001b[0m Missing parentheses in call to 'print'. Did you mean print(\"pi is %1.3f\" %pi)?\n"
     ]
    }
   ],
   "source": [
    "print \"pi is %1.3f\" %pi "
   ]
  },
  {
   "cell_type": "code",
   "execution_count": 102,
   "metadata": {},
   "outputs": [
    {
     "name": "stdout",
     "output_type": "stream",
     "text": [
      "my first name is saad\n"
     ]
    }
   ],
   "source": [
    "print (\"my first name is %s\" %name)"
   ]
  },
  {
   "cell_type": "code",
   "execution_count": 107,
   "metadata": {},
   "outputs": [
    {
     "name": "stdout",
     "output_type": "stream",
     "text": [
      "enter you name :sad\n",
      "enter you namm2 :after\n",
      "Welcome  sad after\n"
     ]
    }
   ],
   "source": [
    "name = input('enter you name :')\n",
    "name2 = input('enter you namm2 :')\n",
    "print('Welcome  {} {}'.format(name,name2))"
   ]
  },
  {
   "cell_type": "markdown",
   "metadata": {},
   "source": [
    "## Assignment"
   ]
  },
  {
   "cell_type": "raw",
   "metadata": {},
   "source": [
    "1. Write a Python program to calculate the length of a string. \n",
    "\n",
    "\n",
    "2. Write a Python program to count the number of characters (character frequency) in a string.  \n",
    "Sample String : google.com'\n",
    "Expected Result : {'o': 3, 'g': 2, '.': 1, 'e': 1, 'l': 1, 'm': 1, 'c': 1}\n",
    "`\n",
    "Expected Result : 'w3w3'\n",
    "Sample String : ' w'\n",
    "Expected Result : Empty String \n",
    "\n",
    "\n",
    "4. Write a Python program to get a string from a given string where all occurrences of its first char have been changed to '$', except the first char itself.  \n",
    "Sample String : 'restart'\n",
    "Expected Result : 'resta$t'\n",
    "\n",
    "\n",
    "5. Write a Python program to get a single string from two given strings, separated by a space and swap the first two characters of each string.  \n",
    "Sample String : 'abc', 'xyz' \n",
    "Expected Result : 'xyc abz'\n",
    "\n",
    "\n",
    "6. Write a Python program to add 'ing' at the end of a given string (length should be at least 3). If the given string already ends with 'ing' then add 'ly' instead. If the string length of the given string is less than 3, leave it unchanged.  \n",
    "Sample String : 'abc'\n",
    "Expected Result : 'abcing' \n",
    "Sample String : 'string'\n",
    "Expected Result : 'stringly'\n",
    "\n",
    "\n",
    "7. Write a Python program to find the first appearance of the substring 'not' and 'poor' from a given string, if 'not' follows the 'poor', replace the whole 'not'...'poor' substring with 'good'. Return the resulting string.  \n",
    "Sample String : 'The lyrics is not that poor!'\n",
    "'The lyrics is poor!'\n",
    "Expected Result : 'The lyrics is good!'\n",
    "'The lyrics is poor!'\n",
    "\n",
    "\n",
    "8. Write a Python function that takes a list of words and returns the length of the longest one.  \n",
    "\n",
    "\n",
    "9. Write a Python program to remove the nth index character from a nonempty string. \n",
    "\n",
    "\n",
    "10. Write a Python program to change a given string to a new string where the first and last chars have been exchanged. \n",
    "\n",
    "\n",
    "11. Write a Python program to remove the characters which have odd index values of a given string. \n",
    "\n",
    "\n",
    "12. Write a Python program to count the occurrences of each word in a given sentence. \n",
    "\n",
    "\n",
    "13. Write a Python script that takes input from the user and displays that input back in upper and lower cases. \n",
    "\n",
    "\n",
    "14. Write a Python program that accepts a comma separated sequence of words as input and prints the unique words in sorted form (alphanumerically). \n",
    "Sample Words : red, white, black, red, green, black\n",
    "Expected Result : black, green, red, white,red\n",
    "\n",
    "\n",
    "15. Write a Python function to create the HTML string with tags around the word(s). \n",
    "Sample function and result : \n",
    "add_tags('i', 'Python') -> '<i>Python</i>'\n",
    "add_tags('b', 'Python Tutorial') -> '<b>Python Tutorial </b>'\n",
    "\n",
    "\n",
    "16. Write a Python function to insert a string in the middle of a string. \n",
    "Sample function and result : \n",
    "insert_sting_middle('[[]]<<>>', 'Python') -> [[Python]]\n",
    "insert_sting_middle('{{}}', 'PHP') -> {{PHP}}\n",
    "\n",
    "\n",
    "17. Write a Python function to get a string made of 4 copies of the last two characters of a specified string (length must be at least 2). \n",
    "Sample function and result : \n",
    "insert_end('Python') -> onononon\n",
    "insert_end('Exercises') -> eseseses\n",
    "\n",
    "\n",
    "18. Write a Python function to get a string made of its first three characters of a specified string. If the length of the string is less than 3 then return the original string. \n",
    "Sample function and result : \n",
    "first_three('ipy') -> ipy\n",
    "first_three('python') -> pyt\n",
    "\n",
    "\n",
    "19. Write a Python program to get the last part of a string before a specified character. \n",
    "https://www.w3resource.com/python-exercises\n",
    "https://www.w3resource.com/python\n",
    "\n",
    "\n",
    "20. Write a Python function to reverses a string if it's length is a multiple of 4. \n",
    "\n",
    "\n",
    "21. Write a Python function to convert a given string to all uppercase if it contains at least 2 uppercase characters in the first 4 characters. \n",
    "\n",
    "\n",
    "22.Write a Python program to sort a string lexicographically. \n",
    "\n",
    "\n",
    "23. Write a Python program to remove a newline in Python. \n",
    "\n",
    "\n",
    "24. Write a Python program to check whether a string starts with specified characters. \n",
    "\n",
    "\n",
    "25. Write a Python program to create a Caesar encryption. \n",
    "\n",
    "Note : In cryptography, a Caesar cipher, also known as Caesar's cipher, the shift cipher, Caesar's code or Caesar shift, is one of the simplest and most widely known encryption techniques. It is a type of substitution cipher in which each letter in the plaintext is replaced by a letter some fixed number of positions down the alphabet. For example, with a left shift of 3, D would be replaced by A, E would become B, and so on. The method is named after Julius Caesar, who used it in his private correspondence.\n",
    "\n",
    "\n",
    "\n",
    "26. Write a Python program to display formatted text (width=50) as output. \n",
    "\n",
    "\n",
    "27. Write a Python program to remove existing indentation from all of the lines in a given text. \n",
    "\n",
    "\n",
    "28. Write a Python program to add a prefix text to all of the lines in a string. \n",
    "\n",
    "\n",
    "29. Write a Python program to set the indentation of the first line. \n",
    "\n",
    "\n",
    "30. Write a Python program to print the following floating numbers upto 2 decimal places. \n",
    "\n",
    "\n",
    "31. Write a Python program to print the following floating numbers upto 2 decimal places with a sign. \n",
    "\n",
    "\n",
    "32. Write a Python program to print the following floating numbers with no decimal places. \n",
    "\n",
    "\n",
    "33. Write a Python program to print the following integers with zeros on the left of specified width. \n",
    "\n",
    "\n",
    "34. Write a Python program to print the following integers with '*' on the right of specified width. \n",
    "\n",
    "\n",
    "35. Write a Python program to display a number with a comma separator. \n",
    "\n",
    "\n",
    "36. Write a Python program to format a number with a percentage. \n",
    "\n",
    "\n",
    "37. Write a Python program to display a number in left, right and center aligned of width 10. \n",
    "\n",
    "\n",
    "38. Write a Python program to count occurrences of a substring in a string. \n",
    "\n",
    "\n",
    "39. Write a Python program to reverse a string. \n",
    "\n",
    "\n",
    "40. Write a Python program to reverse words in a string. \n",
    "\n",
    "\n",
    "41. Write a Python program to strip a set of characters from a string. \n",
    "\n",
    "\n",
    "42. Write a Python program to count repeated characters in a string. \n",
    "Sample string: 'thequickbrownfoxjumpsoverthelazydog'\n",
    "Expected output :\n",
    "o 4\n",
    "e 3\n",
    "u 2\n",
    "h 2\n",
    "r 2\n",
    "t 2\n",
    "\n",
    "\n",
    "43. Write a Python program to print the square and cube symbol in the area of a rectangle and volume of a cylinder. \n",
    "Sample output: \n",
    "The area of the rectangle is 1256.66cm2\n",
    "The volume of the cylinder is 1254.725cm3\n",
    "\n",
    "\n",
    "44. Write a Python program to print the index of the character in a string. \n",
    "Sample string: w3resource\n",
    "Expected output:\n",
    "Current character w position at 0\n",
    "Current character 3 position at 1\n",
    "Current character r position at 2\n",
    "- - - - - - - - - - - - - - - - - - - - - - - - -\n",
    "Current character c position at 8\n",
    "Current character e position at 9\n",
    "\n",
    "\n",
    "45. Write a Python program to check if a string contains all letters of the alphabet. \n",
    "\n",
    "\n",
    "46. Write a Python program to convert a string in a list. \n",
    "\n",
    "\n",
    "47. Write a Python program to lowercase first n characters in a string. \n",
    "\n",
    "\n",
    "48. Write a Python program to swap comma and dot in a string. \n",
    "Sample string: \"32.054,23\"\n",
    "Expected Output: \"32,054.23\"\n",
    "\n",
    "\n",
    "49. Write a Python program to count and display the vowels of a given text. \n",
    "\n",
    "\n",
    "50. Write a Python program to split a string on the last occurrence of the delimiter. \n",
    "\n",
    "\n",
    "51. Write a Python program to find the first non-repeating character in given string. \n",
    "\n",
    "\n",
    "52. Write a Python program to print all permutations with given repetition number of characters of a given string. \n",
    "\n",
    "\n",
    "53. Write a Python program to find the first repeated character in a given string. \n",
    "\n",
    "\n",
    "54. Write a Python program to find the first repeated character of a given string where the index of first occurrence is smallest. \n",
    "\n",
    "\n",
    "55.Write a Python program to find the first repeated word in a given string. \n",
    "\n",
    "\n",
    "56. Write a Python program to find the second most repeated word in a given string. \n",
    "\n",
    "\n",
    "57.Write a Python program to remove spaces from a given string. \n",
    "\n",
    "\n",
    "58. Write a Python program to move spaces to the front of a given string. \n",
    "\n",
    "\n",
    "59. Write a Python program to find the maximum occurring character in a given string. \n",
    "\n",
    "\n",
    "60. Write a Python program to capitalize first and last letters of each word of a given string. \n",
    "\n",
    "\n",
    "61. Write a Python program to remove duplicate characters of a given string. \n",
    "\n",
    "\n",
    "62. Write a Python program to compute sum of digits of a given string. \n",
    "\n",
    "\n",
    "63. Write a Python program to remove leading zeros from an IP address. \n",
    "\n",
    "\n",
    "64. Write a Python program to find maximum length of consecutive 0's in a given binary string. \n",
    "\n",
    "\n",
    "65. Write a Python program to find all the common characters in lexicographical order from two given lower case strings. If there are no common letters print \"No common characters\". \n",
    "\n",
    "\n",
    "66. Write a Python program to make two given strings (lower case, may or may not be of the same length) anagrams removing any characters from any of the strings. \n",
    "\n",
    "\n",
    "67. Write a Python program to remove all consecutive duplicates of a given string. \n",
    "\n",
    "\n",
    "68. Write a Python program to create two strings from a given string. Create the first string using those character which occurs only once and create the second string which consists of multi-time occurring characters in the said string. \n",
    "\n",
    "\n",
    "69. Write a Python program to find the longest common sub-string from two given strings. \n",
    "\n",
    "\n",
    "70. Write a Python program to create a string from two given strings concatenating uncommon characters of the said strings. \n",
    "\n",
    "\n",
    "71. Write a Python program to move all spaces to the front of a given string in single traversal. \n",
    "\n",
    "\n",
    "72. Write a Python program to remove all consecutive duplicates from a given string. \n",
    "\n",
    "\n",
    "73. Write a Python program to count Uppercase, Lowercase, special character and numeric values in a given string. \n",
    "\n",
    "\n",
    "74. Write a Python program to find the minimum window in a given string which will contain all the characters of another given string. \n",
    "Example 1\n",
    "Input : str1 = \" PRWSOERIUSFK \"\n",
    "str2 = \" OSU \"\n",
    "Output: Minimum window is \"OERIUS\"\n",
    "\n",
    "\n",
    "75. Write a Python program to find smallest window that contains all characters of a given string. \n",
    "\n",
    "\n",
    "76. Write a Python program to count number of substrings from a given string of lowercase alphabets with exactly k distinct (given) characters. \n",
    "\n",
    "\n",
    "77. Write a Python program to count number of non-empty substrings of a given string. \n",
    "\n",
    "\n",
    "78. Write a Python program to count characters at same position in a given string (lower and uppercase characters) as in English alphabet. \n",
    "\n",
    "\n",
    "79. Write a Python program to find smallest and largest word in a given string. \n",
    "\n",
    "\n",
    "80. Write a Python program to count number of substrings with same first and last characters of a given string. \n",
    "\n",
    "\n"
   ]
  },
  {
   "cell_type": "code",
   "execution_count": null,
   "metadata": {},
   "outputs": [],
   "source": []
  }
 ],
 "metadata": {
  "kernelspec": {
   "display_name": "Python 3",
   "language": "python",
   "name": "python3"
  },
  "language_info": {
   "codemirror_mode": {
    "name": "ipython",
    "version": 3
   },
   "file_extension": ".py",
   "mimetype": "text/x-python",
   "name": "python",
   "nbconvert_exporter": "python",
   "pygments_lexer": "ipython3",
   "version": "3.6.6"
  }
 },
 "nbformat": 4,
 "nbformat_minor": 2
}
